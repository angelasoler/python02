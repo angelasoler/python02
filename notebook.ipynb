{
 "cells": [
  {
   "cell_type": "code",
   "execution_count": 57,
   "metadata": {},
   "outputs": [
    {
     "name": "stdout",
     "output_type": "stream",
     "text": [
      "(195, 301)\n",
      "             1800  1801  1802  1803  1804  1805  1806  1807  1808  1809  ...  \\\n",
      "country                                                                  ...   \n",
      "Afghanistan  28.2  28.2  28.2  28.2  28.2  28.2  28.1  28.1  28.1  28.1  ...   \n",
      "Angola       27.0  27.0  27.0  27.0  27.0  27.0  27.0  27.0  27.0  27.0  ...   \n",
      "\n",
      "             2091  2092  2093  2094  2095  2096  2097  2098  2099  2100  \n",
      "country                                                                  \n",
      "Afghanistan  75.5  75.7  75.8  76.0  76.1  76.2  76.4  76.5  76.6  76.8  \n",
      "Angola       78.8  79.0  79.1  79.2  79.3  79.5  79.6  79.7  79.9  80.0  \n",
      "\n",
      "[2 rows x 301 columns]\n"
     ]
    }
   ],
   "source": [
    "import pandas as pd\n",
    "\n",
    "#pd.options.display.max_rows = 2\n",
    "data = pd.read_csv(\"ex00/life_expectancy_years.csv\", index_col='country')\n",
    "print(data.shape)\n",
    "print(data.head(2))"
   ]
  },
  {
   "cell_type": "code",
   "execution_count": null,
   "metadata": {},
   "outputs": [],
   "source": []
  }
 ],
 "metadata": {
  "kernelspec": {
   "display_name": ".venv",
   "language": "python",
   "name": "python3"
  },
  "language_info": {
   "codemirror_mode": {
    "name": "ipython",
    "version": 3
   },
   "file_extension": ".py",
   "mimetype": "text/x-python",
   "name": "python",
   "nbconvert_exporter": "python",
   "pygments_lexer": "ipython3",
   "version": "3.10.15"
  }
 },
 "nbformat": 4,
 "nbformat_minor": 2
}
